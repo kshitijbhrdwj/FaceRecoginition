{
 "cells": [
  {
   "cell_type": "code",
   "execution_count": 1,
   "metadata": {},
   "outputs": [
    {
     "name": "stdout",
     "output_type": "stream",
     "text": [
      "(259, 10000)\n",
      "(259,)\n"
     ]
    }
   ],
   "source": [
    "# load the np array datasets\n",
    "\n",
    "import numpy as np\n",
    "\n",
    "# while loading we need to give the extension .npy. But not while saving.\n",
    "data = np.load('data.npy')\n",
    "target = np.load('target.npy')\n",
    "\n",
    "print(data.shape)\n",
    "print(target.shape)"
   ]
  },
  {
   "cell_type": "code",
   "execution_count": 2,
   "metadata": {},
   "outputs": [
    {
     "name": "stdout",
     "output_type": "stream",
     "text": [
      "Counter({0: 90, 1: 89, 2: 80})\n"
     ]
    }
   ],
   "source": [
    "import collections\n",
    "print(collections.Counter(target))    # check how many images are there in each label"
   ]
  },
  {
   "cell_type": "code",
   "execution_count": 3,
   "metadata": {},
   "outputs": [
    {
     "data": {
      "text/plain": [
       "array([0, 1, 2], dtype=int64)"
      ]
     },
     "execution_count": 3,
     "metadata": {},
     "output_type": "execute_result"
    }
   ],
   "source": [
    "import pandas as pd\n",
    "my_data = pd.DataFrame(target,columns=['labels'])\n",
    "my_data['labels'].unique()"
   ]
  },
  {
   "cell_type": "code",
   "execution_count": 4,
   "metadata": {},
   "outputs": [],
   "source": [
    "from sklearn.model_selection import train_test_split\n",
    "train_data,test_data,train_target,test_target = train_test_split(data,target,test_size = 0.2)"
   ]
  },
  {
   "cell_type": "code",
   "execution_count": 26,
   "metadata": {},
   "outputs": [],
   "source": [
    "# now we cant apply 2500 features to our ML algo as its very big. So we use principle component analysis.\n",
    "# it is a unsupervised learning algo which analysis the most important features/information and merges the complete data to \n",
    "# reduced number of features. for eg. data of 2500 features is stored in 150 features with minimal information loss.\n",
    "\n",
    "# th number of features are decided using the cummulative variaince ratio i.e. we take number of features and plot the graph\n",
    "# of cummulative variance where 1.0 denotes no info loss and below onwards represents info loss. So accordigly to achecive our \\\n",
    "# accuracy we can increase/decrease the components for PCA.\n",
    "\n",
    "from sklearn.svm import SVC\n",
    "from sklearn.decomposition import PCA\n",
    "from sklearn.pipeline import make_pipeline\n",
    "\n",
    "# creating pca object -> using as it is in video.\n",
    "pca = PCA(n_components=50,whiten=True,random_state=42)\n",
    "svc = SVC()\n",
    "model = make_pipeline(pca,svc)"
   ]
  },
  {
   "cell_type": "code",
   "execution_count": 27,
   "metadata": {},
   "outputs": [
    {
     "data": {
      "text/plain": [
       "Pipeline(steps=[('pca', PCA(n_components=50, random_state=42, whiten=True)),\n",
       "                ('svc', SVC())])"
      ]
     },
     "execution_count": 27,
     "metadata": {},
     "output_type": "execute_result"
    }
   ],
   "source": [
    "model.fit(train_data,train_target)"
   ]
  },
  {
   "cell_type": "code",
   "execution_count": 28,
   "metadata": {},
   "outputs": [
    {
     "data": {
      "text/plain": [
       "array([[13,  1,  0],\n",
       "       [ 0, 21,  0],\n",
       "       [ 3,  0, 14]], dtype=int64)"
      ]
     },
     "execution_count": 28,
     "metadata": {},
     "output_type": "execute_result"
    }
   ],
   "source": [
    "prediction = model.predict(test_data)\n",
    "\n",
    "\n",
    "from sklearn.metrics import accuracy_score,confusion_matrix\n",
    "acc = accuracy_score(test_target,prediction)\n",
    "confusion_matrix(test_target,prediction)"
   ]
  },
  {
   "cell_type": "code",
   "execution_count": 29,
   "metadata": {},
   "outputs": [
    {
     "data": {
      "text/plain": [
       "0.9230769230769231"
      ]
     },
     "execution_count": 29,
     "metadata": {},
     "output_type": "execute_result"
    }
   ],
   "source": [
    "acc"
   ]
  },
  {
   "cell_type": "code",
   "execution_count": 30,
   "metadata": {},
   "outputs": [
    {
     "name": "stdout",
     "output_type": "stream",
     "text": [
      "              precision    recall  f1-score   support\n",
      "\n",
      "       obama       0.81      0.93      0.87        14\n",
      "        bush       0.95      1.00      0.98        21\n",
      "     kshitij       1.00      0.82      0.90        17\n",
      "\n",
      "    accuracy                           0.92        52\n",
      "   macro avg       0.92      0.92      0.92        52\n",
      "weighted avg       0.93      0.92      0.92        52\n",
      "\n"
     ]
    }
   ],
   "source": [
    "from sklearn.metrics import classification_report\n",
    "print(classification_report(test_target,prediction,target_names=['obama','bush','kshitij']))"
   ]
  },
  {
   "cell_type": "code",
   "execution_count": 31,
   "metadata": {},
   "outputs": [
    {
     "data": {
      "text/plain": [
       "['SVM-Face_Recognition.sav']"
      ]
     },
     "execution_count": 31,
     "metadata": {},
     "output_type": "execute_result"
    }
   ],
   "source": [
    "import joblib\n",
    "joblib.dump(model,'SVM-Face_Recognition.sav')"
   ]
  },
  {
   "cell_type": "code",
   "execution_count": null,
   "metadata": {},
   "outputs": [],
   "source": []
  }
 ],
 "metadata": {
  "kernelspec": {
   "display_name": "Python 3 (ipykernel)",
   "language": "python",
   "name": "python3"
  },
  "language_info": {
   "codemirror_mode": {
    "name": "ipython",
    "version": 3
   },
   "file_extension": ".py",
   "mimetype": "text/x-python",
   "name": "python",
   "nbconvert_exporter": "python",
   "pygments_lexer": "ipython3",
   "version": "3.7.4"
  }
 },
 "nbformat": 4,
 "nbformat_minor": 2
}
