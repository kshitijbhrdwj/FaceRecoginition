{
 "cells": [
  {
   "cell_type": "code",
   "execution_count": 4,
   "metadata": {},
   "outputs": [],
   "source": [
    "import joblib\n",
    "model = joblib.load('SVM-Face_Recognition.sav')\n",
    "\n",
    "category_dict = {0:'Obama',1:'Bush',2:'Kshitij'}\n",
    "test_data_path = \"test_data\""
   ]
  },
  {
   "cell_type": "code",
   "execution_count": 5,
   "metadata": {},
   "outputs": [
    {
     "name": "stdout",
     "output_type": "stream",
     "text": [
      "['bush1.jpg', 'bush2.png', 'kshitij1.jpg', 'kshitij2.jpg', 'kshitij3.PNG', 'kshitij4.PNG', 'obama1.jpeg', 'obama2.jpg']\n"
     ]
    }
   ],
   "source": [
    "import os\n",
    "test_img_names = os.listdir(test_data_path)\n",
    "print(test_img_names)"
   ]
  },
  {
   "cell_type": "code",
   "execution_count": 6,
   "metadata": {},
   "outputs": [
    {
     "name": "stdout",
     "output_type": "stream",
     "text": [
      "1\n",
      "0\n",
      "1\n",
      "2\n",
      "2\n",
      "1\n",
      "1\n",
      "0\n",
      "0\n"
     ]
    }
   ],
   "source": [
    "# classification using test images\n",
    "import cv2\n",
    "\n",
    "face_classifier = cv2.CascadeClassifier('haarcascade_frontalface_default.xml')\n",
    "\n",
    "for test_img in test_img_names:\n",
    "    img_path = os.path.join(test_data_path,test_img)\n",
    "    test_img = cv2.imread(img_path)\n",
    "    #print(img_path)\n",
    "    \n",
    "    gray = cv2.cvtColor(test_img,cv2.COLOR_BGR2GRAY)\n",
    "    faces = face_classifier.detectMultiScale(gray)\n",
    "\n",
    "    for (x,y,w,h) in faces:\n",
    "        cropped_face = gray[y:y+h,x:x+w]\n",
    "        cropped_face = cv2.resize(cropped_face,(100,100))\n",
    "        cropped_face = cropped_face.reshape(1,10000)\n",
    "        result =  model.predict(cropped_face)[0]   # value is coming as 1-d array so we take the value as first index\n",
    "        name = category_dict[result]\n",
    "\n",
    "        cv2.rectangle(test_img,(x,y),(x+w,y+h),(0,255,0),2)\n",
    "\n",
    "\n",
    "        #       img name , category, where the text should be placed, font name, font scale(i.e. normal size * 1.5), color, thickness\n",
    "        cv2.putText(test_img,name,(x,y-10),cv2.FONT_HERSHEY_PLAIN,1.5, (0,255,0),2)\n",
    "\n",
    "        cv2.imshow('LIVE',test_img)\n",
    "        key = cv2.waitKey(2000)\n",
    "        if key == 27:\n",
    "            break\n",
    "cv2.destroyAllWindows()"
   ]
  },
  {
   "cell_type": "code",
   "execution_count": 7,
   "metadata": {},
   "outputs": [],
   "source": [
    "# classification using video camera\n",
    "\n",
    "import cv2\n",
    "\n",
    "face_classifier = cv2.CascadeClassifier('haarcascade_frontalface_default.xml')\n",
    "\n",
    "cam = cv2.VideoCapture(0)\n",
    "\n",
    "while True:\n",
    "    endwhile = 0\n",
    "    result,image = cam.read()\n",
    "    gray = cv2.cvtColor(image,cv2.COLOR_BGR2GRAY)\n",
    "    faces = face_classifier.detectMultiScale(gray)\n",
    "    for (x,y,w,h) in faces:\n",
    "        cropped_face = gray[y:y+h,x:x+w]\n",
    "        cropped_face = cv2.resize(cropped_face,(100,100))\n",
    "        cropped_face = cropped_face.reshape(1,10000)\n",
    "        result =  model.predict(cropped_face)[0]   # value is coming as 1-d array so we take the value as first index\n",
    "\n",
    "        name = category_dict[result]\n",
    "\n",
    "        cv2.rectangle(image,(x,y),(x+w,y+h),(0,255,0),2)\n",
    " \n",
    "\n",
    "        #       img name , category, where the text should be placed, font name, font scale(i.e. normal size * 1.5), color, thickness\n",
    "        cv2.putText(image,name,(x,y-10),cv2.FONT_HERSHEY_PLAIN,1.5, (0,255,0),2)\n",
    "        cv2.imshow('LIVE',image)\n",
    "        if cv2.waitKey(1) & 0xFF ==ord('q'):\n",
    "            endwhile = 1\n",
    "            break\n",
    "    if endwhile:\n",
    "        break\n",
    "cam.release()\n",
    "cv2.destroyAllWindows()\n"
   ]
  },
  {
   "cell_type": "code",
   "execution_count": null,
   "metadata": {},
   "outputs": [],
   "source": []
  }
 ],
 "metadata": {
  "kernelspec": {
   "display_name": "Python 3 (ipykernel)",
   "language": "python",
   "name": "python3"
  },
  "language_info": {
   "codemirror_mode": {
    "name": "ipython",
    "version": 3
   },
   "file_extension": ".py",
   "mimetype": "text/x-python",
   "name": "python",
   "nbconvert_exporter": "python",
   "pygments_lexer": "ipython3",
   "version": "3.7.4"
  }
 },
 "nbformat": 4,
 "nbformat_minor": 2
}
